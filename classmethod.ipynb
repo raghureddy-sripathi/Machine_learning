{
 "cells": [
  {
   "cell_type": "code",
   "execution_count": 5,
   "metadata": {},
   "outputs": [
    {
     "name": "stdout",
     "output_type": "stream",
     "text": [
      "total 0 of students\n"
     ]
    }
   ],
   "source": [
    "class student:\n",
    "\n",
    "    count = 0\n",
    "\n",
    "    def __init__(self, name, gpa):\n",
    "        self.name = name\n",
    "        self.gpa = gpa\n",
    "        student.count +=1\n",
    "\n",
    "    def get_info(self):\n",
    "        return f\"{self.name}{self.gpa}\"\n",
    "    \n",
    "    @classmethod\n",
    "    def get_count(clp):\n",
    "        return f\"total {clp.count} of students\"\n",
    "    \n",
    "print(student.get_count())\n"
   ]
  }
 ],
 "metadata": {
  "kernelspec": {
   "display_name": "Python 3",
   "language": "python",
   "name": "python3"
  },
  "language_info": {
   "codemirror_mode": {
    "name": "ipython",
    "version": 3
   },
   "file_extension": ".py",
   "mimetype": "text/x-python",
   "name": "python",
   "nbconvert_exporter": "python",
   "pygments_lexer": "ipython3",
   "version": "3.12.1"
  }
 },
 "nbformat": 4,
 "nbformat_minor": 2
}
