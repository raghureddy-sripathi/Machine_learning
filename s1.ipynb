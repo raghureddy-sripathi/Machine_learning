{
 "cells": [
  {
   "cell_type": "code",
   "execution_count": 1,
   "metadata": {},
   "outputs": [
    {
     "name": "stdout",
     "output_type": "stream",
     "text": [
      "     number_courses  time_study   Marks\n",
      "0                 3       4.508  19.202\n",
      "1                 4       0.096   7.734\n",
      "2                 4       3.133  13.811\n",
      "3                 6       7.909  53.018\n",
      "4                 8       7.811  55.299\n",
      "..              ...         ...     ...\n",
      "96                3       0.301   5.609\n",
      "97                4       7.163  41.444\n",
      "98                7       0.309  12.027\n",
      "99                3       6.335  32.357\n",
      "100               9       7.865  55.234\n",
      "\n",
      "[101 rows x 3 columns]\n"
     ]
    }
   ],
   "source": [
    "import pandas as pd\n",
    "\n",
    "df = pd.read_csv(r'/workspaces/Machine_learning/Student_Marks.csv')\n",
    "\n",
    "print(df)"
   ]
  },
  {
   "cell_type": "code",
   "execution_count": 22,
   "metadata": {},
   "outputs": [
    {
     "name": "stdout",
     "output_type": "stream",
     "text": [
      "     number_courses  time_study   Marks\n",
      "0                 3       4.508  19.202\n",
      "1                 4       0.096   7.734\n",
      "2                 4       3.133  13.811\n",
      "3                 6       7.909  53.018\n",
      "4                 8       7.811  55.299\n",
      "..              ...         ...     ...\n",
      "96                3       0.301   5.609\n",
      "97                4       7.163  41.444\n",
      "98                7       0.309  12.027\n",
      "99                3       6.335  32.357\n",
      "100               9       7.865  55.234\n",
      "\n",
      "[101 rows x 3 columns]\n"
     ]
    }
   ],
   "source": [
    "new_row = [{\"number_courses\": 9, \"time_study\": 7.865, \"Marks\": 55.234}]\n",
    "new_row_df = pd.DataFrame(new_row)\n",
    "df = pd.concat([df, new_row_df], ignore_index = True)\n",
    "df.to_csv(r'/workspaces/Machine_learning/Student_Marks.csv', index = False)\n",
    "print(df)"
   ]
  },
  {
   "cell_type": "code",
   "execution_count": 23,
   "metadata": {},
   "outputs": [
    {
     "name": "stdout",
     "output_type": "stream",
     "text": [
      "     number_courses  time_study   Marks\n",
      "0                 3       4.508  19.202\n",
      "1                 4       0.096   7.734\n",
      "2                 4       3.133  13.811\n",
      "3                 6       7.909  53.018\n",
      "4                 8       7.811  55.299\n",
      "..              ...         ...     ...\n",
      "96                3       0.301   5.609\n",
      "97                4       7.163  41.444\n",
      "98                7       0.309  12.027\n",
      "99                3       6.335  32.357\n",
      "100               5       5.865  62.028\n",
      "\n",
      "[101 rows x 3 columns]\n"
     ]
    }
   ],
   "source": [
    "df.iloc[100] = [5, 5.865, 62.028]\n",
    "print(df)"
   ]
  },
  {
   "cell_type": "code",
   "execution_count": 20,
   "metadata": {},
   "outputs": [
    {
     "name": "stdout",
     "output_type": "stream",
     "text": [
      "    number_courses  time_study   Marks\n",
      "0                3       4.508  19.202\n",
      "1                4       0.096   7.734\n",
      "2                4       3.133  13.811\n",
      "3                6       7.909  53.018\n",
      "4                8       7.811  55.299\n",
      "..             ...         ...     ...\n",
      "95               6       3.561  19.128\n",
      "96               3       0.301   5.609\n",
      "97               4       7.163  41.444\n",
      "98               7       0.309  12.027\n",
      "99               3       6.335  32.357\n",
      "\n",
      "[100 rows x 3 columns]\n"
     ]
    }
   ],
   "source": [
    "df = df.drop(100)\n",
    "df = df.reset_index(drop=True)\n",
    "df.to_csv(r'/workspaces/Machine_learning/Student_Marks.csv', index = False)\n",
    "print(df)"
   ]
  },
  {
   "cell_type": "code",
   "execution_count": null,
   "metadata": {},
   "outputs": [],
   "source": []
  }
 ],
 "metadata": {
  "kernelspec": {
   "display_name": "Python 3",
   "language": "python",
   "name": "python3"
  },
  "language_info": {
   "codemirror_mode": {
    "name": "ipython",
    "version": 3
   },
   "file_extension": ".py",
   "mimetype": "text/x-python",
   "name": "python",
   "nbconvert_exporter": "python",
   "pygments_lexer": "ipython3",
   "version": "3.12.1"
  }
 },
 "nbformat": 4,
 "nbformat_minor": 2
}
